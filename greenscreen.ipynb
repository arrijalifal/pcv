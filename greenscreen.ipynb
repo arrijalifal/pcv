{
 "cells": [
  {
   "cell_type": "code",
   "execution_count": 11,
   "metadata": {},
   "outputs": [],
   "source": [
    "import cv2\n",
    "import numpy as np\n",
    "from stackImages import stackImages"
   ]
  },
  {
   "cell_type": "code",
   "execution_count": 12,
   "metadata": {},
   "outputs": [],
   "source": [
    "def empty(a):\n",
    "    pass"
   ]
  },
  {
   "cell_type": "code",
   "execution_count": 13,
   "metadata": {},
   "outputs": [],
   "source": [
    "def findEdgePoints(img):\n",
    "    cnts, _ = cv2.findContours(img, cv2.RETR_EXTERNAL, cv2.CHAIN_APPROX_NONE)\n",
    "    for cnt in cnts:\n",
    "        area = cv2.contourArea(cnt)\n",
    "        print(\"area: \",area)\n",
    "        if area > 1000:\n",
    "            peri = cv2.arcLength(cnt, True)\n",
    "            approx = cv2.approxPolyDP(cnt, 0.03 * peri, True)\n",
    "            print(approx.shape)\n",
    "            print(\"approx: \", approx)\n",
    "            cv2.drawContours(imgCnt, approx, -1, (255, 0, 0), 5)\n",
    "            points = approx.reshape(approx.shape[0], 2).tolist()\n",
    "            print(\"points: \", points)\n",
    "            return points\n"
   ]
  },
  {
   "cell_type": "code",
   "execution_count": 14,
   "metadata": {},
   "outputs": [],
   "source": [
    "from numpy import ndarray\n",
    "\n",
    "\n",
    "def arrange_points(p) -> ndarray:\n",
    "    if p == None: return np.array([])\n",
    "    points = np.array(p)\n",
    "\n",
    "    s = points.sum(axis=1)\n",
    "    diff = np.diff(points, axis=1).ravel()\n",
    "\n",
    "    top_left = points[np.argmin(s)]\n",
    "    bottom_right = points[np.argmax(s)]\n",
    "    top_right = points[np.argmin(diff)]\n",
    "    bottom_left = points[np.argmax(diff)]\n",
    "\n",
    "    return np.array([top_left, top_right, bottom_left, bottom_right]).tolist()"
   ]
  },
  {
   "cell_type": "code",
   "execution_count": 15,
   "metadata": {},
   "outputs": [],
   "source": [
    "def findSideLength(points):\n",
    "    arranged_points = arrange_points(points)\n",
    "    top_left, top_right, bottom_left, bottom_right = arranged_points\n",
    "    sisi_atas = np.sqrt((top_left[0] - top_right[0]) ** 2 + (top_left[1] - top_right[1]) ** 2)\n",
    "    sisi_bawah = np.sqrt((bottom_left[0] - bottom_right[0]) ** 2 + (bottom_left[1] - bottom_right[1]) ** 2)\n",
    "    sisi_kanan = np.sqrt((top_right[0] - bottom_right[0]) ** 2 + (top_right[1] - bottom_right[1]) ** 2)\n",
    "    sisi_kiri = np.sqrt((top_left[0] - bottom_left[0]) ** 2 + (top_left[1] - bottom_left[1]) ** 2)\n",
    "\n",
    "    return [sisi_atas, sisi_kiri, sisi_bawah, sisi_kanan]"
   ]
  },
  {
   "cell_type": "code",
   "execution_count": 16,
   "metadata": {},
   "outputs": [],
   "source": [
    "def getWarp(img, points):\n",
    "    sisi_atas, sisi_kiri, sisi_bawah, sisi_kanan = findSideLength(points)\n",
    "    widthImg = int(round(np.average([sisi_atas, sisi_bawah])))\n",
    "    heightImg = int(round(np.average([sisi_kanan, sisi_kiri])))\n",
    "    pts1 = np.float32(points)\n",
    "    pts2 = np.float32(\n",
    "        [\n",
    "            [0, 0],\n",
    "            [widthImg, 0],\n",
    "            [0, heightImg],\n",
    "            [widthImg, heightImg]\n",
    "        ]\n",
    "    )\n",
    "    print(\"width and height img: \",widthImg, heightImg)\n",
    "    matrix = cv2.getPerspectiveTransform(pts1, pts2)\n",
    "    warpp = cv2.warpPerspective(img, matrix, (widthImg, heightImg))\n",
    "    return warpp"
   ]
  },
  {
   "cell_type": "code",
   "execution_count": 17,
   "metadata": {},
   "outputs": [],
   "source": [
    "def greenScreen(cam):\n",
    "    imgHSV = cv2.cvtColor(cam, cv2.COLOR_BGR2HSV)\n",
    "    h_min = cv2.getTrackbarPos(\"Hue Min\", \"TrackBars\")\n",
    "    h_max = cv2.getTrackbarPos(\"Hue Max\", \"TrackBars\")\n",
    "    s_min = cv2.getTrackbarPos(\"Sat Min\", \"TrackBars\")\n",
    "    s_max = cv2.getTrackbarPos(\"Sat Max\", \"TrackBars\")\n",
    "    v_min = cv2.getTrackbarPos(\"Val Min\", \"TrackBars\")\n",
    "    v_max = cv2.getTrackbarPos(\"Val Max\", \"TrackBars\")\n",
    "    lower = np.array([h_min, s_min, v_min])\n",
    "    upper = np.array([h_max, s_max, v_max])\n",
    "    mask = cv2.inRange(imgHSV, lower, upper)\n",
    "    inverted_mask = cv2.bitwise_not(mask)\n",
    "    greenscreen = cv2.bitwise_and(cam, cam, mask=inverted_mask)\n",
    "\n",
    "    return greenscreen, mask"
   ]
  },
  {
   "cell_type": "code",
   "execution_count": 18,
   "metadata": {},
   "outputs": [],
   "source": [
    "def preProcessing(img):\n",
    "    imgGray = cv2.cvtColor(img, cv2.COLOR_BGR2GRAY)\n",
    "    imgBlur = cv2.GaussianBlur(imgGray, (5, 5), 1)\n",
    "    imgCanny = cv2.Canny(imgBlur, 200, 200)\n",
    "    imgDilate = cv2.dilate(imgCanny, np.ones((5, 5)), iterations=3)\n",
    "    imgErode = cv2.erode(imgDilate, np.ones((5, 5)), iterations=1)\n",
    "    return imgErode"
   ]
  },
  {
   "cell_type": "code",
   "execution_count": 19,
   "metadata": {},
   "outputs": [],
   "source": [
    "cv2.namedWindow(\"TrackBars\")\n",
    "cv2.resizeWindow(\"TrackBars\", 640, 240)\n",
    "cv2.createTrackbar(\"Hue Min\", \"TrackBars\", 0, 179, empty)\n",
    "cv2.createTrackbar(\"Hue Max\", \"TrackBars\", 179, 179, empty)\n",
    "cv2.createTrackbar(\"Sat Min\", \"TrackBars\", 0, 255, empty)\n",
    "cv2.createTrackbar(\"Sat Max\", \"TrackBars\", 255, 255, empty)\n",
    "cv2.createTrackbar(\"Val Min\", \"TrackBars\", 0, 255, empty)\n",
    "cv2.createTrackbar(\"Val Max\", \"TrackBars\", 255, 255, empty)"
   ]
  },
  {
   "cell_type": "code",
   "execution_count": 20,
   "metadata": {},
   "outputs": [],
   "source": [
    "cap = cv2.VideoCapture(1)\n",
    "\n",
    "\n",
    "while True:\n",
    "    _, cam = cap.read()\n",
    "    imgCnt = cam.copy()\n",
    "    greenscreen, mask = greenScreen(cam)\n",
    "    preprocessing = preProcessing(greenscreen)\n",
    "    \n",
    "    camEdge = findEdgePoints(preprocessing)\n",
    "    # warp = getWarp(cam, camEdge)\n",
    "    cv2.imshow(\"Result\", stackImages(0.3, ([cam, preprocessing], [greenscreen])))\n",
    "    # cv2.imshow(\"WARP\", warp)\n",
    "    if cv2.waitKey(1) & 0xff == ord('q'):\n",
    "        break\n",
    "\n",
    "cv2.destroyAllWindows()"
   ]
  }
 ],
 "metadata": {
  "kernelspec": {
   "display_name": "Python 3",
   "language": "python",
   "name": "python3"
  },
  "language_info": {
   "codemirror_mode": {
    "name": "ipython",
    "version": 3
   },
   "file_extension": ".py",
   "mimetype": "text/x-python",
   "name": "python",
   "nbconvert_exporter": "python",
   "pygments_lexer": "ipython3",
   "version": "3.12.1"
  }
 },
 "nbformat": 4,
 "nbformat_minor": 2
}
