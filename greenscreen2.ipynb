{
 "cells": [
  {
   "cell_type": "code",
   "execution_count": 1,
   "metadata": {},
   "outputs": [],
   "source": [
    "import cv2\n",
    "import numpy as np\n",
    "from stackImages import stackImages\n",
    "import os"
   ]
  },
  {
   "cell_type": "code",
   "execution_count": 2,
   "metadata": {},
   "outputs": [],
   "source": [
    "def empty(a):\n",
    "    pass"
   ]
  },
  {
   "cell_type": "code",
   "execution_count": 3,
   "metadata": {},
   "outputs": [],
   "source": [
    "cards = {}\n",
    "cards['user'] = []\n",
    "cards['computer'] = []\n",
    "path = 'dataset'\n",
    "templates = {}\n",
    "for filename in os.listdir(path):\n",
    "    card_name = os.path.splitext(filename)[0]\n",
    "    card_image = cv2.imread(os.path.join(path, filename), cv2.COLOR_BGR2GRAY)\n",
    "    templates[card_name] = card_image"
   ]
  },
  {
   "cell_type": "code",
   "execution_count": 5,
   "metadata": {},
   "outputs": [],
   "source": [
    "widthImg = 480\n",
    "heightImg = 640"
   ]
  },
  {
   "cell_type": "code",
   "execution_count": 6,
   "metadata": {},
   "outputs": [],
   "source": [
    "def greenScreen(cam):\n",
    "    imgHSV = cv2.cvtColor(cam, cv2.COLOR_BGR2HSV)\n",
    "    h_min = cv2.getTrackbarPos(\"Hue Min\", \"TrackBars\")\n",
    "    h_max = cv2.getTrackbarPos(\"Hue Max\", \"TrackBars\")\n",
    "    s_min = cv2.getTrackbarPos(\"Sat Min\", \"TrackBars\")\n",
    "    s_max = cv2.getTrackbarPos(\"Sat Max\", \"TrackBars\")\n",
    "    v_min = cv2.getTrackbarPos(\"Val Min\", \"TrackBars\")\n",
    "    v_max = cv2.getTrackbarPos(\"Val Max\", \"TrackBars\")\n",
    "    lower = np.array([h_min, s_min, v_min])\n",
    "    upper = np.array([h_max, s_max, v_max])\n",
    "    mask = cv2.inRange(imgHSV, lower, upper)\n",
    "    mask = cv2.bitwise_not(mask)\n",
    "    greenscreen = cv2.bitwise_and(cam, cam, mask=mask)\n",
    "\n",
    "    return greenscreen, mask"
   ]
  },
  {
   "cell_type": "code",
   "execution_count": 7,
   "metadata": {},
   "outputs": [],
   "source": [
    "def preProcessing(img):\n",
    "    imgGray = cv2.cvtColor(img, cv2.COLOR_BGR2GRAY)\n",
    "    imgBlur = cv2.GaussianBlur(imgGray, (5, 5), 1)\n",
    "    imgCanny = cv2.Canny(imgBlur, 200, 200)\n",
    "    imgDilate = cv2.dilate(imgCanny, np.ones((5, 5)), iterations=3)\n",
    "    imgErode = cv2.erode(imgDilate, np.ones((5, 5)), iterations=2)\n",
    "    return imgErode"
   ]
  },
  {
   "cell_type": "code",
   "execution_count": 8,
   "metadata": {},
   "outputs": [],
   "source": [
    "def findEdgePoints(img):\n",
    "    cnts, _ = cv2.findContours(img, cv2.RETR_EXTERNAL, cv2.CHAIN_APPROX_NONE)\n",
    "    for cnt in cnts:\n",
    "        area = cv2.contourArea(cnt)\n",
    "        # print(\"area: \",area)\n",
    "        if area > 5000:\n",
    "            peri = cv2.arcLength(cnt, True)\n",
    "            approx = cv2.approxPolyDP(cnt, 0.03 * peri, True)\n",
    "            # print(approx.shape)\n",
    "            if len(approx) == 4:\n",
    "                # print(\"approx: \", approx)\n",
    "                # cv2.drawContours(imgCnt, approx, -1, (255, 0, 0), 20)\n",
    "                # print(\"points: \", point)\n",
    "                return approx"
   ]
  },
  {
   "cell_type": "code",
   "execution_count": 9,
   "metadata": {},
   "outputs": [],
   "source": [
    "def reorder(myPoints):\n",
    "    myPoints = myPoints.reshape((4, 2))\n",
    "    myPointsNew = np.zeros((4, 1, 2), np.int32)\n",
    "    add = myPoints.sum(1)\n",
    "    # print(\"add: \", add)\n",
    "    myPointsNew[0] = myPoints[np.argmin(add)]\n",
    "    myPointsNew[3] = myPoints[np.argmax(add)]\n",
    "    diff = np.diff(myPoints, axis=1)\n",
    "    myPointsNew[1] = myPoints[np.argmin(diff)]\n",
    "    myPointsNew[2] = myPoints[np.argmax(diff)]\n",
    "\n",
    "    return myPointsNew"
   ]
  },
  {
   "cell_type": "code",
   "execution_count": 10,
   "metadata": {},
   "outputs": [],
   "source": [
    "def getWarp(img, points):\n",
    "    if not points is None:\n",
    "        points = reorder(points)\n",
    "    pts1 = np.float32(points)\n",
    "    pts2 = np.float32(\n",
    "        [\n",
    "            [0, 0],\n",
    "            [widthImg, 0],\n",
    "            [0, heightImg],\n",
    "            [widthImg, heightImg]\n",
    "        ]\n",
    "    )\n",
    "    # print(pts1)\n",
    "    if points is None or not points.any():\n",
    "        return np.zeros((widthImg, heightImg))\n",
    "    else:\n",
    "        matrix = cv2.getPerspectiveTransform(pts1, pts2)\n",
    "        warpp = cv2.warpPerspective(imgCnt, matrix, (widthImg, heightImg))\n",
    "        cv2.imshow(\"warp\", warpp)\n",
    "        if not warpp.any():\n",
    "            cv2.destroyWindow(\"warp\")\n",
    "        return warpp"
   ]
  },
  {
   "cell_type": "code",
   "execution_count": 11,
   "metadata": {},
   "outputs": [],
   "source": [
    "def getSAD(warpcard):\n",
    "    if warpcard.size == 0:\n",
    "        return \"No card detected\"\n",
    "    min = np.Infinity\n",
    "    card_match = \"\"\n",
    "    warpcard = cv2.cvtColor(warpcard, cv2.COLOR_BGR2GRAY)\n",
    "    for card_name, card_image in templates.items():\n",
    "        databasecard = cv2.cvtColor(card_image, cv2.COLOR_BGR2GRAY)\n",
    "        resize = cv2.resize(databasecard, (warpcard.shape[1], warpcard.shape[0]))\n",
    "        sad = np.sum(cv2.absdiff(warpcard, resize))\n",
    "        if sad < min:\n",
    "            min = sad\n",
    "            card_match = card_name\n",
    "    return card_match\n"
   ]
  },
  {
   "cell_type": "code",
   "execution_count": 12,
   "metadata": {},
   "outputs": [],
   "source": [
    "cap = cv2.VideoCapture(1)\n",
    "cv2.namedWindow(\"TrackBars\")\n",
    "cv2.resizeWindow(\"TrackBars\", 640, 240)\n",
    "cv2.createTrackbar(\"Hue Min\", \"TrackBars\", 49, 179, empty)\n",
    "cv2.createTrackbar(\"Hue Max\", \"TrackBars\", 179, 179, empty)\n",
    "cv2.createTrackbar(\"Sat Min\", \"TrackBars\", 0, 255, empty)\n",
    "cv2.createTrackbar(\"Sat Max\", \"TrackBars\", 255, 255, empty)\n",
    "cv2.createTrackbar(\"Val Min\", \"TrackBars\", 0, 255, empty)\n",
    "cv2.createTrackbar(\"Val Max\", \"TrackBars\", 255, 255, empty)\n",
    "while True:\n",
    "    _, img = cap.read()\n",
    "    imgCnt = img.copy()\n",
    "    blank = np.zeros_like(img)\n",
    "    green_screen, mask = greenScreen(img)\n",
    "    preprocessed = preProcessing(green_screen)\n",
    "    getPoint = findEdgePoints(preprocessed)\n",
    "    warp = getWarp(img, getPoint)\n",
    "    if getPoint is not None:\n",
    "        card_found = getSAD(warp)\n",
    "        cv2.putText(imgCnt, card_found, reorder(getPoint).reshape(4, 2).tolist()[0], cv2.FONT_HERSHEY_COMPLEX, 2.0, (255, 0, 0), 2)\n",
    "        # print(card_found)\n",
    "    cv2.imshow(\"Result\", stackImages(0.3, ([img, green_screen, imgCnt], [mask, preprocessed, blank])))\n",
    "    if cv2.waitKey(1) & 0xFF == ord('q'):\n",
    "        break\n",
    "\n",
    "cap.release()\n",
    "cv2.destroyAllWindows()"
   ]
  },
  {
   "cell_type": "code",
   "execution_count": null,
   "metadata": {},
   "outputs": [],
   "source": []
  }
 ],
 "metadata": {
  "kernelspec": {
   "display_name": "Python 3",
   "language": "python",
   "name": "python3"
  },
  "language_info": {
   "codemirror_mode": {
    "name": "ipython",
    "version": 3
   },
   "file_extension": ".py",
   "mimetype": "text/x-python",
   "name": "python",
   "nbconvert_exporter": "python",
   "pygments_lexer": "ipython3",
   "version": "3.12.1"
  }
 },
 "nbformat": 4,
 "nbformat_minor": 2
}
